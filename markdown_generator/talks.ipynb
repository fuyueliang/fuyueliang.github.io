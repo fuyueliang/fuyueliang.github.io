{
 "cells": [
  {
   "cell_type": "markdown",
   "metadata": {
    "deletable": true,
    "editable": true
   },
   "source": [
    "# Talks markdown generator for academicpages\n",
    "\n",
    "Takes a TSV of talks with metadata and converts them for use with [academicpages.github.io](academicpages.github.io). This is an interactive Jupyter notebook ([see more info here](http://jupyter-notebook-beginner-guide.readthedocs.io/en/latest/what_is_jupyter.html)). The core python code is also in `talks.py`. Run either from the `markdown_generator` folder after replacing `talks.tsv` with one containing your data.\n",
    "\n",
    "TODO: Make this work with BibTex and other databases, rather than Stuart's non-standard TSV format and citation style."
   ]
  },
  {
   "cell_type": "code",
   "execution_count": 1,
   "metadata": {
    "collapsed": false,
    "deletable": true,
    "editable": true
   },
   "outputs": [],
   "source": [
    "import pandas as pd\n",
    "import os"
   ]
  },
  {
   "cell_type": "markdown",
   "metadata": {},
   "source": [
    "## Data format\n",
    "\n",
    "The TSV needs to have the following columns: title, type, url_slug, venue, date, location, talk_url, description, with a header at the top. Many of these fields can be blank, but the columns must be in the TSV.\n",
    "\n",
    "- Fields that cannot be blank: `title`, `url_slug`, `date`. All else can be blank. `type` defaults to \"Talk\" \n",
    "- `date` must be formatted as YYYY-MM-DD.\n",
    "- `url_slug` will be the descriptive part of the .md file and the permalink URL for the page about the paper. \n",
    "    - The .md file will be `YYYY-MM-DD-[url_slug].md` and the permalink will be `https://[yourdomain]/talks/YYYY-MM-DD-[url_slug]`\n",
    "    - The combination of `url_slug` and `date` must be unique, as it will be the basis for your filenames\n",
    "\n",
    "This is how the raw file looks (it doesn't look pretty, use a spreadsheet or other program to edit and create)."
   ]
  },
  {
   "cell_type": "code",
   "execution_count": 2,
   "metadata": {
    "collapsed": false
   },
   "outputs": [
    {
     "name": "stdout",
     "output_type": "stream",
     "text": [
      "title\ttype\turl_slug\tvenue\tdate\tlocation\ttalk_url\tdescription\n",
      "On drop dispersion and mixing performance in a stirred vessel: effect of surfactant solubility\tConference presentation\ttalk-1\t\t2023-11-20\tWashington D.C., USA\t\t76th Annual Meeting of the APS Division of Fluid Dynamics\n",
      "Machine Learning for Prediction and Optimization in Surfactant-Laden Liquid Dispersions\tConference presentation\ttalk-2\t\t2023-11-07\tOrlando, USA\t\t2023 AIChE annual meeting\n",
      "Numerical simulation of surfactant-laden emulsion formation in a stirred vessel\tConference presentation\ttalk-3\t\t2023-04-07\tKobe, Japan\t\t11th International Conference on Multiphase Flow\n",
      "Numerical simulation of surfactant-laden emulsion formation in a stirred vessel\tConference presentation\ttalk-4\t\t2022-11-21\tIndianapolis, USA\t\t75th Annual Meeting of the APS Division of Fluid Dynamics\n",
      "Numerical simulation of surfactant-laden emulsion formation in a stirred vessel\tConference presentation\ttalk-5\t\t2022-11-15\tPheonix, USA\t\t2022 AIChE annual meeting\n",
      "A numerical vinaigrette: A myriad of interfacial singularities with surfactants\tConference presentation\ttalk-6\t\t2022-09-13\tAthens, Greece\t\t14th European Fluid Mechanics Conference\n",
      "A numerical vinaigrette: A myriad of interfacial singularities with surfactants\tConference presentation\ttalk-7\t\t2022-06-21\tLondon, UK\t\tMixing XXVII, the North American Mixing Forum\n",
      "A Numerical Vinaigrette: Effect of Surfactants on Oil-water Emulsification\tConference presentation\ttalk-8\t\t2022-06-09\tOslo, Norway\t\t8th European Congress on Computational Methods in Applied Sciences and Engineering\n",
      "Effect of Impeller Rotation on Oil-water Emulsion Formation in Stirred Vessels\tConference presentation\ttalk-9\t\t2021-11-20\tPheonix, USA\t\t74th Annual Meeting of the APS Division of Fluid Dynamics\n"
     ]
    }
   ],
   "source": [
    "!cat talks.tsv"
   ]
  },
  {
   "cell_type": "markdown",
   "metadata": {},
   "source": [
    "## Import TSV\n",
    "\n",
    "Pandas makes this easy with the read_csv function. We are using a TSV, so we specify the separator as a tab, or `\\t`.\n",
    "\n",
    "I found it important to put this data in a tab-separated values format, because there are a lot of commas in this kind of data and comma-separated values can get messed up. However, you can modify the import statement, as pandas also has read_excel(), read_json(), and others."
   ]
  },
  {
   "cell_type": "code",
   "execution_count": 3,
   "metadata": {
    "collapsed": false,
    "deletable": true,
    "editable": true
   },
   "outputs": [
    {
     "data": {
      "text/html": [
       "<div>\n",
       "<style scoped>\n",
       "    .dataframe tbody tr th:only-of-type {\n",
       "        vertical-align: middle;\n",
       "    }\n",
       "\n",
       "    .dataframe tbody tr th {\n",
       "        vertical-align: top;\n",
       "    }\n",
       "\n",
       "    .dataframe thead th {\n",
       "        text-align: right;\n",
       "    }\n",
       "</style>\n",
       "<table border=\"1\" class=\"dataframe\">\n",
       "  <thead>\n",
       "    <tr style=\"text-align: right;\">\n",
       "      <th></th>\n",
       "      <th>title</th>\n",
       "      <th>type</th>\n",
       "      <th>url_slug</th>\n",
       "      <th>venue</th>\n",
       "      <th>date</th>\n",
       "      <th>location</th>\n",
       "      <th>talk_url</th>\n",
       "      <th>description</th>\n",
       "    </tr>\n",
       "  </thead>\n",
       "  <tbody>\n",
       "    <tr>\n",
       "      <th>0</th>\n",
       "      <td>On drop dispersion and mixing performance in a...</td>\n",
       "      <td>Conference presentation</td>\n",
       "      <td>talk-1</td>\n",
       "      <td>NaN</td>\n",
       "      <td>2023-11-20</td>\n",
       "      <td>Washington D.C., USA</td>\n",
       "      <td>NaN</td>\n",
       "      <td>76th Annual Meeting of the APS Division of Flu...</td>\n",
       "    </tr>\n",
       "    <tr>\n",
       "      <th>1</th>\n",
       "      <td>Machine Learning for Prediction and Optimizati...</td>\n",
       "      <td>Conference presentation</td>\n",
       "      <td>talk-2</td>\n",
       "      <td>NaN</td>\n",
       "      <td>2023-11-07</td>\n",
       "      <td>Orlando, USA</td>\n",
       "      <td>NaN</td>\n",
       "      <td>2023 AIChE annual meeting</td>\n",
       "    </tr>\n",
       "    <tr>\n",
       "      <th>2</th>\n",
       "      <td>Numerical simulation of surfactant-laden emuls...</td>\n",
       "      <td>Conference presentation</td>\n",
       "      <td>talk-3</td>\n",
       "      <td>NaN</td>\n",
       "      <td>2023-04-07</td>\n",
       "      <td>Kobe, Japan</td>\n",
       "      <td>NaN</td>\n",
       "      <td>11th International Conference on Multiphase Flow</td>\n",
       "    </tr>\n",
       "    <tr>\n",
       "      <th>3</th>\n",
       "      <td>Numerical simulation of surfactant-laden emuls...</td>\n",
       "      <td>Conference presentation</td>\n",
       "      <td>talk-4</td>\n",
       "      <td>NaN</td>\n",
       "      <td>2022-11-21</td>\n",
       "      <td>Indianapolis, USA</td>\n",
       "      <td>NaN</td>\n",
       "      <td>75th Annual Meeting of the APS Division of Flu...</td>\n",
       "    </tr>\n",
       "    <tr>\n",
       "      <th>4</th>\n",
       "      <td>Numerical simulation of surfactant-laden emuls...</td>\n",
       "      <td>Conference presentation</td>\n",
       "      <td>talk-5</td>\n",
       "      <td>NaN</td>\n",
       "      <td>2022-11-15</td>\n",
       "      <td>Pheonix, USA</td>\n",
       "      <td>NaN</td>\n",
       "      <td>2022 AIChE annual meeting</td>\n",
       "    </tr>\n",
       "    <tr>\n",
       "      <th>5</th>\n",
       "      <td>A numerical vinaigrette: A myriad of interfaci...</td>\n",
       "      <td>Conference presentation</td>\n",
       "      <td>talk-6</td>\n",
       "      <td>NaN</td>\n",
       "      <td>2022-09-13</td>\n",
       "      <td>Athens, Greece</td>\n",
       "      <td>NaN</td>\n",
       "      <td>14th European Fluid Mechanics Conference</td>\n",
       "    </tr>\n",
       "    <tr>\n",
       "      <th>6</th>\n",
       "      <td>A numerical vinaigrette: A myriad of interfaci...</td>\n",
       "      <td>Conference presentation</td>\n",
       "      <td>talk-7</td>\n",
       "      <td>NaN</td>\n",
       "      <td>2022-06-21</td>\n",
       "      <td>London, UK</td>\n",
       "      <td>NaN</td>\n",
       "      <td>Mixing XXVII, the North American Mixing Forum</td>\n",
       "    </tr>\n",
       "    <tr>\n",
       "      <th>7</th>\n",
       "      <td>A Numerical Vinaigrette: Effect of Surfactants...</td>\n",
       "      <td>Conference presentation</td>\n",
       "      <td>talk-8</td>\n",
       "      <td>NaN</td>\n",
       "      <td>2022-06-09</td>\n",
       "      <td>Oslo, Norway</td>\n",
       "      <td>NaN</td>\n",
       "      <td>8th European Congress on Computational Methods...</td>\n",
       "    </tr>\n",
       "    <tr>\n",
       "      <th>8</th>\n",
       "      <td>Effect of Impeller Rotation on Oil-water Emuls...</td>\n",
       "      <td>Conference presentation</td>\n",
       "      <td>talk-9</td>\n",
       "      <td>NaN</td>\n",
       "      <td>2021-11-20</td>\n",
       "      <td>Pheonix, USA</td>\n",
       "      <td>NaN</td>\n",
       "      <td>74th Annual Meeting of the APS Division of Flu...</td>\n",
       "    </tr>\n",
       "  </tbody>\n",
       "</table>\n",
       "</div>"
      ],
      "text/plain": [
       "                                               title                     type  \\\n",
       "0  On drop dispersion and mixing performance in a...  Conference presentation   \n",
       "1  Machine Learning for Prediction and Optimizati...  Conference presentation   \n",
       "2  Numerical simulation of surfactant-laden emuls...  Conference presentation   \n",
       "3  Numerical simulation of surfactant-laden emuls...  Conference presentation   \n",
       "4  Numerical simulation of surfactant-laden emuls...  Conference presentation   \n",
       "5  A numerical vinaigrette: A myriad of interfaci...  Conference presentation   \n",
       "6  A numerical vinaigrette: A myriad of interfaci...  Conference presentation   \n",
       "7  A Numerical Vinaigrette: Effect of Surfactants...  Conference presentation   \n",
       "8  Effect of Impeller Rotation on Oil-water Emuls...  Conference presentation   \n",
       "\n",
       "  url_slug  venue        date              location  talk_url  \\\n",
       "0   talk-1    NaN  2023-11-20  Washington D.C., USA       NaN   \n",
       "1   talk-2    NaN  2023-11-07          Orlando, USA       NaN   \n",
       "2   talk-3    NaN  2023-04-07           Kobe, Japan       NaN   \n",
       "3   talk-4    NaN  2022-11-21     Indianapolis, USA       NaN   \n",
       "4   talk-5    NaN  2022-11-15          Pheonix, USA       NaN   \n",
       "5   talk-6    NaN  2022-09-13        Athens, Greece       NaN   \n",
       "6   talk-7    NaN  2022-06-21            London, UK       NaN   \n",
       "7   talk-8    NaN  2022-06-09          Oslo, Norway       NaN   \n",
       "8   talk-9    NaN  2021-11-20          Pheonix, USA       NaN   \n",
       "\n",
       "                                         description  \n",
       "0  76th Annual Meeting of the APS Division of Flu...  \n",
       "1                          2023 AIChE annual meeting  \n",
       "2   11th International Conference on Multiphase Flow  \n",
       "3  75th Annual Meeting of the APS Division of Flu...  \n",
       "4                          2022 AIChE annual meeting  \n",
       "5           14th European Fluid Mechanics Conference  \n",
       "6      Mixing XXVII, the North American Mixing Forum  \n",
       "7  8th European Congress on Computational Methods...  \n",
       "8  74th Annual Meeting of the APS Division of Flu...  "
      ]
     },
     "execution_count": 3,
     "metadata": {},
     "output_type": "execute_result"
    }
   ],
   "source": [
    "talks = pd.read_csv(\"talks.tsv\", sep=\"\\t\", header=0)\n",
    "talks"
   ]
  },
  {
   "cell_type": "markdown",
   "metadata": {},
   "source": [
    "## Escape special characters\n",
    "\n",
    "YAML is very picky about how it takes a valid string, so we are replacing single and double quotes (and ampersands) with their HTML encoded equivilents. This makes them look not so readable in raw format, but they are parsed and rendered nicely."
   ]
  },
  {
   "cell_type": "code",
   "execution_count": 4,
   "metadata": {
    "collapsed": false,
    "deletable": true,
    "editable": true
   },
   "outputs": [],
   "source": [
    "html_escape_table = {\n",
    "    \"&\": \"&amp;\",\n",
    "    '\"': \"&quot;\",\n",
    "    \"'\": \"&apos;\"\n",
    "    }\n",
    "\n",
    "def html_escape(text):\n",
    "    if type(text) is str:\n",
    "        return \"\".join(html_escape_table.get(c,c) for c in text)\n",
    "    else:\n",
    "        return \"False\""
   ]
  },
  {
   "cell_type": "markdown",
   "metadata": {},
   "source": [
    "## Creating the markdown files\n",
    "\n",
    "This is where the heavy lifting is done. This loops through all the rows in the TSV dataframe, then starts to concatentate a big string (```md```) that contains the markdown for each type. It does the YAML metadata first, then does the description for the individual page."
   ]
  },
  {
   "cell_type": "code",
   "execution_count": 5,
   "metadata": {
    "collapsed": false,
    "deletable": true,
    "editable": true
   },
   "outputs": [],
   "source": [
    "loc_dict = {}\n",
    "\n",
    "for row, item in talks.iterrows():\n",
    "    \n",
    "    md_filename = str(item.date) + \"-\" + item.url_slug + \".md\"\n",
    "    html_filename = str(item.date) + \"-\" + item.url_slug \n",
    "    year = item.date[:4]\n",
    "    \n",
    "    md = \"---\\ntitle: \\\"\"   + item.title + '\"\\n'\n",
    "    md += \"collection: talks\" + \"\\n\"\n",
    "    \n",
    "    if len(str(item.type)) > 3:\n",
    "        md += 'type: \"' + item.type + '\"\\n'\n",
    "    else:\n",
    "        md += 'type: \"Talk\"\\n'\n",
    "    \n",
    "    md += \"permalink: /talks/\" + html_filename + \"\\n\"\n",
    "    \n",
    "    if len(str(item.venue)) > 3:\n",
    "        md += 'venue: \"' + item.venue + '\"\\n'\n",
    "        \n",
    "    if len(str(item.location)) > 3:\n",
    "        md += \"date: \" + str(item.date) + \"\\n\"\n",
    "    \n",
    "    if len(str(item.location)) > 3:\n",
    "        md += 'location: \"' + str(item.location) + '\"\\n'\n",
    "           \n",
    "    md += \"---\\n\"\n",
    "    \n",
    "    \n",
    "    if len(str(item.talk_url)) > 3:\n",
    "        md += \"\\n[More information here](\" + item.talk_url + \")\\n\" \n",
    "        \n",
    "    \n",
    "    if len(str(item.description)) > 3:\n",
    "        md += \"\\n\" + html_escape(item.description) + \"\\n\"\n",
    "        \n",
    "        \n",
    "    md_filename = os.path.basename(md_filename)\n",
    "    #print(md)\n",
    "    \n",
    "    with open(\"../_talks/\" + md_filename, 'w') as f:\n",
    "        f.write(md)"
   ]
  },
  {
   "cell_type": "markdown",
   "metadata": {},
   "source": [
    "These files are in the talks directory, one directory below where we're working from."
   ]
  },
  {
   "cell_type": "code",
   "execution_count": 15,
   "metadata": {
    "collapsed": false,
    "deletable": true,
    "editable": true
   },
   "outputs": [
    {
     "name": "stdout",
     "output_type": "stream",
     "text": [
      "2012-03-01-talk-1.md     2022-06-09-talk-8.md     2023-04-07-talk-3.md\n",
      "2013-03-01-tutorial-1.md 2022-06-21-talk-7.md     2023-11-07-talk-2.md\n",
      "2014-02-01-talk-2.md     2022-09-13-talk-6.md     2023-11-20-talk-1.md\n",
      "2014-03-01-talk-3.md     2022-11-15-talk-5.md\n",
      "2021-11-20-talk-9.md     2022-11-21-talk-4.md\n"
     ]
    }
   ],
   "source": [
    "!ls ../_talks"
   ]
  },
  {
   "cell_type": "code",
   "execution_count": 6,
   "metadata": {
    "collapsed": false,
    "deletable": true,
    "editable": true
   },
   "outputs": [
    {
     "name": "stdout",
     "output_type": "stream",
     "text": [
      "---\n",
      "title: \"A Numerical Vinaigrette: Effect of Surfactants on Oil-water Emulsification\"\n",
      "collection: talks\n",
      "type: \"Conference presentation\"\n",
      "permalink: /talks/2022-06-09-talk-8\n",
      "date: 2022-06-09\n",
      "location: \"Oslo, Norway\"\n",
      "---\n",
      "\n",
      "8th European Congress on Computational Methods in Applied Sciences and Engineering\n"
     ]
    }
   ],
   "source": [
    "# !cat ../_talks/2013-03-01-tutorial-1.md\n",
    "!cat ../_talks/2022-06-09-talk-8.md"
   ]
  },
  {
   "cell_type": "code",
   "execution_count": null,
   "metadata": {},
   "outputs": [],
   "source": []
  }
 ],
 "metadata": {
  "kernelspec": {
   "display_name": "Python 3",
   "language": "python",
   "name": "python3"
  },
  "language_info": {
   "codemirror_mode": {
    "name": "ipython",
    "version": 3
   },
   "file_extension": ".py",
   "mimetype": "text/x-python",
   "name": "python",
   "nbconvert_exporter": "python",
   "pygments_lexer": "ipython3",
   "version": "3.6.9"
  }
 },
 "nbformat": 4,
 "nbformat_minor": 0
}
