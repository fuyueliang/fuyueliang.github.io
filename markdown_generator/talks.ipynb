{
 "cells": [
  {
   "cell_type": "markdown",
   "metadata": {
    "deletable": true,
    "editable": true
   },
   "source": [
    "# Talks markdown generator for academicpages\n",
    "\n",
    "Takes a TSV of talks with metadata and converts them for use with [academicpages.github.io](academicpages.github.io). This is an interactive Jupyter notebook ([see more info here](http://jupyter-notebook-beginner-guide.readthedocs.io/en/latest/what_is_jupyter.html)). The core python code is also in `talks.py`. Run either from the `markdown_generator` folder after replacing `talks.tsv` with one containing your data.\n",
    "\n",
    "TODO: Make this work with BibTex and other databases, rather than Stuart's non-standard TSV format and citation style."
   ]
  },
  {
   "cell_type": "code",
   "execution_count": 1,
   "metadata": {
    "collapsed": false,
    "deletable": true,
    "editable": true
   },
   "outputs": [],
   "source": [
    "import pandas as pd\n",
    "import os"
   ]
  },
  {
   "cell_type": "markdown",
   "metadata": {},
   "source": [
    "## Data format\n",
    "\n",
    "The TSV needs to have the following columns: title, type, url_slug, venue, date, location, talk_url, description, with a header at the top. Many of these fields can be blank, but the columns must be in the TSV.\n",
    "\n",
    "- Fields that cannot be blank: `title`, `url_slug`, `date`. All else can be blank. `type` defaults to \"Talk\" \n",
    "- `date` must be formatted as YYYY-MM-DD.\n",
    "- `url_slug` will be the descriptive part of the .md file and the permalink URL for the page about the paper. \n",
    "    - The .md file will be `YYYY-MM-DD-[url_slug].md` and the permalink will be `https://[yourdomain]/talks/YYYY-MM-DD-[url_slug]`\n",
    "    - The combination of `url_slug` and `date` must be unique, as it will be the basis for your filenames\n",
    "\n",
    "This is how the raw file looks (it doesn't look pretty, use a spreadsheet or other program to edit and create)."
   ]
  },
  {
   "cell_type": "code",
   "execution_count": 8,
   "metadata": {
    "collapsed": false
   },
   "outputs": [
    {
     "name": "stdout",
     "output_type": "stream",
     "text": [
      "title\ttype\turl_slug\tvenue\tdate\tlocation\ttalk_url\tdescription\n",
      "On drop dispersion and mixing performance in a stirred vessel: effect of surfactant solubility\tConference presentation https://meetings.aps.org/Meeting/DFD23/Session/T18.5        2023-11-20  Washington D.C. USA     \n",
      "Tutorial 1 on Relevant Topic in Your Field\tTutorial\ttutorial-1\tUC-Berkeley Institute for Testing Science\t2013-03-01\tBerkeley CA, USA\thttp://exampleurl.com\tThis is a description of your tutorial, note the different field in type. This is a markdown files that can be all markdown-ified like any other post. Yay markdown!\n",
      "Talk 2 on Relevant Topic in Your Field\tTalk\ttalk-2\tLondon School of Testing\t2014-02-01\tLondon, UK\thttp://example2.com\tThis is a description of your talk, which is a markdown files that can be all markdown-ified like any other post. Yay markdown!\n",
      "Conference Proceeding talk 3 on Relevant Topic in Your Field\tConference proceedings talk\ttalk-3\tTesting Institute of America 2014 Annual Conference\t2014-03-01\tLos Angeles, CA\t\tThis is a description of your conference proceedings talk, note the different field in type. You can put anything in this field."
     ]
    }
   ],
   "source": [
    "!cat talks.tsv"
   ]
  },
  {
   "cell_type": "markdown",
   "metadata": {},
   "source": [
    "## Import TSV\n",
    "\n",
    "Pandas makes this easy with the read_csv function. We are using a TSV, so we specify the separator as a tab, or `\\t`.\n",
    "\n",
    "I found it important to put this data in a tab-separated values format, because there are a lot of commas in this kind of data and comma-separated values can get messed up. However, you can modify the import statement, as pandas also has read_excel(), read_json(), and others."
   ]
  },
  {
   "cell_type": "code",
   "execution_count": 12,
   "metadata": {
    "collapsed": false,
    "deletable": true,
    "editable": true
   },
   "outputs": [
    {
     "data": {
      "text/html": [
       "<div>\n",
       "<style scoped>\n",
       "    .dataframe tbody tr th:only-of-type {\n",
       "        vertical-align: middle;\n",
       "    }\n",
       "\n",
       "    .dataframe tbody tr th {\n",
       "        vertical-align: top;\n",
       "    }\n",
       "\n",
       "    .dataframe thead th {\n",
       "        text-align: right;\n",
       "    }\n",
       "</style>\n",
       "<table border=\"1\" class=\"dataframe\">\n",
       "  <thead>\n",
       "    <tr style=\"text-align: right;\">\n",
       "      <th></th>\n",
       "      <th>title</th>\n",
       "      <th>type</th>\n",
       "      <th>url_slug</th>\n",
       "      <th>venue</th>\n",
       "      <th>date</th>\n",
       "      <th>location</th>\n",
       "      <th>talk_url</th>\n",
       "      <th>description</th>\n",
       "    </tr>\n",
       "  </thead>\n",
       "  <tbody>\n",
       "    <tr>\n",
       "      <th>0</th>\n",
       "      <td>On drop dispersion and mixing performance in a...</td>\n",
       "      <td>Conference presentation</td>\n",
       "      <td>talk-1</td>\n",
       "      <td>NaN</td>\n",
       "      <td>2023-11-20</td>\n",
       "      <td>Washington D.C., USA</td>\n",
       "      <td>NaN</td>\n",
       "      <td>76th Annual Meeting of the APS Division of Flu...</td>\n",
       "    </tr>\n",
       "    <tr>\n",
       "      <th>1</th>\n",
       "      <td>Machine Learning for Prediction and Optimizati...</td>\n",
       "      <td>Conference presentation</td>\n",
       "      <td>talk-2</td>\n",
       "      <td>NaN</td>\n",
       "      <td>2023-11-07</td>\n",
       "      <td>Orlando, USA</td>\n",
       "      <td>NaN</td>\n",
       "      <td>2023 AIChE annual meeting</td>\n",
       "    </tr>\n",
       "    <tr>\n",
       "      <th>2</th>\n",
       "      <td>Numerical simulation of surfactant-laden emuls...</td>\n",
       "      <td>Conference presentation</td>\n",
       "      <td>talk-3</td>\n",
       "      <td>NaN</td>\n",
       "      <td>2023-04-07</td>\n",
       "      <td>Kobe, Japan</td>\n",
       "      <td>NaN</td>\n",
       "      <td>11th International Conference on Multiphase Flow</td>\n",
       "    </tr>\n",
       "    <tr>\n",
       "      <th>3</th>\n",
       "      <td>Numerical simulation of surfactant-laden emuls...</td>\n",
       "      <td>Conference presentation</td>\n",
       "      <td>talk-4</td>\n",
       "      <td>NaN</td>\n",
       "      <td>2022-11-21</td>\n",
       "      <td>Indianapolis, USA</td>\n",
       "      <td>NaN</td>\n",
       "      <td>75th Annual Meeting of the APS Division of Flu...</td>\n",
       "    </tr>\n",
       "    <tr>\n",
       "      <th>4</th>\n",
       "      <td>Numerical simulation of surfactant-laden emuls...</td>\n",
       "      <td>Conference presentation</td>\n",
       "      <td>talk-5</td>\n",
       "      <td>NaN</td>\n",
       "      <td>2022-11-15</td>\n",
       "      <td>Pheonix, USA</td>\n",
       "      <td>NaN</td>\n",
       "      <td>2022 AIChE annual meeting</td>\n",
       "    </tr>\n",
       "    <tr>\n",
       "      <th>5</th>\n",
       "      <td>A numerical vinaigrette: A myriad of interfaci...</td>\n",
       "      <td>Conference presentation</td>\n",
       "      <td>talk-6</td>\n",
       "      <td>NaN</td>\n",
       "      <td>2022-09-13</td>\n",
       "      <td>Athens, Greece</td>\n",
       "      <td>NaN</td>\n",
       "      <td>14th European Fluid Mechanics Conference</td>\n",
       "    </tr>\n",
       "    <tr>\n",
       "      <th>6</th>\n",
       "      <td>A numerical vinaigrette: A myriad of interfaci...</td>\n",
       "      <td>Conference presentation</td>\n",
       "      <td>talk-7</td>\n",
       "      <td>NaN</td>\n",
       "      <td>2022-06-21</td>\n",
       "      <td>Online</td>\n",
       "      <td>NaN</td>\n",
       "      <td>Mixing XXVII, the North American Mixing Forum</td>\n",
       "    </tr>\n",
       "    <tr>\n",
       "      <th>7</th>\n",
       "      <td>A Numerical Vinaigrette: Effect of Surfactants...</td>\n",
       "      <td>Conference presentation</td>\n",
       "      <td>talk-8</td>\n",
       "      <td>NaN</td>\n",
       "      <td>2022-06-09</td>\n",
       "      <td>Oslo, Norway</td>\n",
       "      <td>NaN</td>\n",
       "      <td>8th European Congress on Computational Methods...</td>\n",
       "    </tr>\n",
       "    <tr>\n",
       "      <th>8</th>\n",
       "      <td>Effect of Impeller Rotation on Oil-water Emuls...</td>\n",
       "      <td>Conference presentation</td>\n",
       "      <td>talk-9</td>\n",
       "      <td>NaN</td>\n",
       "      <td>2021-11-20</td>\n",
       "      <td>Online</td>\n",
       "      <td>NaN</td>\n",
       "      <td>74th Annual Meeting of the APS Division of Flu...</td>\n",
       "    </tr>\n",
       "    <tr>\n",
       "      <th>9</th>\n",
       "      <td>Tutorial 1 on Relevant Topic in Your Field</td>\n",
       "      <td>Tutorial</td>\n",
       "      <td>tutorial-1</td>\n",
       "      <td>UC-Berkeley Institute for Testing Science</td>\n",
       "      <td>2013-03-01</td>\n",
       "      <td>Berkeley CA, USA</td>\n",
       "      <td>http://exampleurl.com</td>\n",
       "      <td>This is a description of your tutorial, note t...</td>\n",
       "    </tr>\n",
       "    <tr>\n",
       "      <th>10</th>\n",
       "      <td>Talk 2 on Relevant Topic in Your Field</td>\n",
       "      <td>Talk</td>\n",
       "      <td>talk-2</td>\n",
       "      <td>London School of Testing</td>\n",
       "      <td>2014-02-01</td>\n",
       "      <td>London, UK</td>\n",
       "      <td>http://example2.com</td>\n",
       "      <td>This is a description of your talk, which is a...</td>\n",
       "    </tr>\n",
       "    <tr>\n",
       "      <th>11</th>\n",
       "      <td>Conference Proceeding talk 3 on Relevant Topic...</td>\n",
       "      <td>Conference proceedings talk</td>\n",
       "      <td>talk-3</td>\n",
       "      <td>Testing Institute of America 2014 Annual Confe...</td>\n",
       "      <td>2014-03-01</td>\n",
       "      <td>Los Angeles, CA</td>\n",
       "      <td>NaN</td>\n",
       "      <td>This is a description of your conference proce...</td>\n",
       "    </tr>\n",
       "  </tbody>\n",
       "</table>\n",
       "</div>"
      ],
      "text/plain": [
       "                                                title  \\\n",
       "0   On drop dispersion and mixing performance in a...   \n",
       "1   Machine Learning for Prediction and Optimizati...   \n",
       "2   Numerical simulation of surfactant-laden emuls...   \n",
       "3   Numerical simulation of surfactant-laden emuls...   \n",
       "4   Numerical simulation of surfactant-laden emuls...   \n",
       "5   A numerical vinaigrette: A myriad of interfaci...   \n",
       "6   A numerical vinaigrette: A myriad of interfaci...   \n",
       "7   A Numerical Vinaigrette: Effect of Surfactants...   \n",
       "8   Effect of Impeller Rotation on Oil-water Emuls...   \n",
       "9          Tutorial 1 on Relevant Topic in Your Field   \n",
       "10             Talk 2 on Relevant Topic in Your Field   \n",
       "11  Conference Proceeding talk 3 on Relevant Topic...   \n",
       "\n",
       "                           type    url_slug  \\\n",
       "0       Conference presentation      talk-1   \n",
       "1       Conference presentation      talk-2   \n",
       "2       Conference presentation      talk-3   \n",
       "3       Conference presentation      talk-4   \n",
       "4       Conference presentation      talk-5   \n",
       "5       Conference presentation      talk-6   \n",
       "6       Conference presentation      talk-7   \n",
       "7       Conference presentation      talk-8   \n",
       "8       Conference presentation      talk-9   \n",
       "9                      Tutorial  tutorial-1   \n",
       "10                         Talk      talk-2   \n",
       "11  Conference proceedings talk      talk-3   \n",
       "\n",
       "                                                venue        date  \\\n",
       "0                                                 NaN  2023-11-20   \n",
       "1                                                 NaN  2023-11-07   \n",
       "2                                                 NaN  2023-04-07   \n",
       "3                                                 NaN  2022-11-21   \n",
       "4                                                 NaN  2022-11-15   \n",
       "5                                                 NaN  2022-09-13   \n",
       "6                                                 NaN  2022-06-21   \n",
       "7                                                 NaN  2022-06-09   \n",
       "8                                                 NaN  2021-11-20   \n",
       "9           UC-Berkeley Institute for Testing Science  2013-03-01   \n",
       "10                           London School of Testing  2014-02-01   \n",
       "11  Testing Institute of America 2014 Annual Confe...  2014-03-01   \n",
       "\n",
       "                location               talk_url  \\\n",
       "0   Washington D.C., USA                    NaN   \n",
       "1           Orlando, USA                    NaN   \n",
       "2            Kobe, Japan                    NaN   \n",
       "3      Indianapolis, USA                    NaN   \n",
       "4           Pheonix, USA                    NaN   \n",
       "5         Athens, Greece                    NaN   \n",
       "6                 Online                    NaN   \n",
       "7           Oslo, Norway                    NaN   \n",
       "8                 Online                    NaN   \n",
       "9       Berkeley CA, USA  http://exampleurl.com   \n",
       "10            London, UK    http://example2.com   \n",
       "11       Los Angeles, CA                    NaN   \n",
       "\n",
       "                                          description  \n",
       "0   76th Annual Meeting of the APS Division of Flu...  \n",
       "1                           2023 AIChE annual meeting  \n",
       "2    11th International Conference on Multiphase Flow  \n",
       "3   75th Annual Meeting of the APS Division of Flu...  \n",
       "4                           2022 AIChE annual meeting  \n",
       "5            14th European Fluid Mechanics Conference  \n",
       "6       Mixing XXVII, the North American Mixing Forum  \n",
       "7   8th European Congress on Computational Methods...  \n",
       "8   74th Annual Meeting of the APS Division of Flu...  \n",
       "9   This is a description of your tutorial, note t...  \n",
       "10  This is a description of your talk, which is a...  \n",
       "11  This is a description of your conference proce...  "
      ]
     },
     "execution_count": 12,
     "metadata": {},
     "output_type": "execute_result"
    }
   ],
   "source": [
    "talks = pd.read_csv(\"talks.tsv\", sep=\"\\t\", header=0)\n",
    "talks"
   ]
  },
  {
   "cell_type": "markdown",
   "metadata": {},
   "source": [
    "## Escape special characters\n",
    "\n",
    "YAML is very picky about how it takes a valid string, so we are replacing single and double quotes (and ampersands) with their HTML encoded equivilents. This makes them look not so readable in raw format, but they are parsed and rendered nicely."
   ]
  },
  {
   "cell_type": "code",
   "execution_count": 13,
   "metadata": {
    "collapsed": false,
    "deletable": true,
    "editable": true
   },
   "outputs": [],
   "source": [
    "html_escape_table = {\n",
    "    \"&\": \"&amp;\",\n",
    "    '\"': \"&quot;\",\n",
    "    \"'\": \"&apos;\"\n",
    "    }\n",
    "\n",
    "def html_escape(text):\n",
    "    if type(text) is str:\n",
    "        return \"\".join(html_escape_table.get(c,c) for c in text)\n",
    "    else:\n",
    "        return \"False\""
   ]
  },
  {
   "cell_type": "markdown",
   "metadata": {},
   "source": [
    "## Creating the markdown files\n",
    "\n",
    "This is where the heavy lifting is done. This loops through all the rows in the TSV dataframe, then starts to concatentate a big string (```md```) that contains the markdown for each type. It does the YAML metadata first, then does the description for the individual page."
   ]
  },
  {
   "cell_type": "code",
   "execution_count": 14,
   "metadata": {
    "collapsed": false,
    "deletable": true,
    "editable": true
   },
   "outputs": [],
   "source": [
    "loc_dict = {}\n",
    "\n",
    "for row, item in talks.iterrows():\n",
    "    \n",
    "    md_filename = str(item.date) + \"-\" + item.url_slug + \".md\"\n",
    "    html_filename = str(item.date) + \"-\" + item.url_slug \n",
    "    year = item.date[:4]\n",
    "    \n",
    "    md = \"---\\ntitle: \\\"\"   + item.title + '\"\\n'\n",
    "    md += \"collection: talks\" + \"\\n\"\n",
    "    \n",
    "    if len(str(item.type)) > 3:\n",
    "        md += 'type: \"' + item.type + '\"\\n'\n",
    "    else:\n",
    "        md += 'type: \"Talk\"\\n'\n",
    "    \n",
    "    md += \"permalink: /talks/\" + html_filename + \"\\n\"\n",
    "    \n",
    "    if len(str(item.venue)) > 3:\n",
    "        md += 'venue: \"' + item.venue + '\"\\n'\n",
    "        \n",
    "    if len(str(item.location)) > 3:\n",
    "        md += \"date: \" + str(item.date) + \"\\n\"\n",
    "    \n",
    "    if len(str(item.location)) > 3:\n",
    "        md += 'location: \"' + str(item.location) + '\"\\n'\n",
    "           \n",
    "    md += \"---\\n\"\n",
    "    \n",
    "    \n",
    "    if len(str(item.talk_url)) > 3:\n",
    "        md += \"\\n[More information here](\" + item.talk_url + \")\\n\" \n",
    "        \n",
    "    \n",
    "    if len(str(item.description)) > 3:\n",
    "        md += \"\\n\" + html_escape(item.description) + \"\\n\"\n",
    "        \n",
    "        \n",
    "    md_filename = os.path.basename(md_filename)\n",
    "    #print(md)\n",
    "    \n",
    "    with open(\"../_talks/\" + md_filename, 'w') as f:\n",
    "        f.write(md)"
   ]
  },
  {
   "cell_type": "markdown",
   "metadata": {},
   "source": [
    "These files are in the talks directory, one directory below where we're working from."
   ]
  },
  {
   "cell_type": "code",
   "execution_count": 15,
   "metadata": {
    "collapsed": false,
    "deletable": true,
    "editable": true
   },
   "outputs": [
    {
     "name": "stdout",
     "output_type": "stream",
     "text": [
      "2012-03-01-talk-1.md     2022-06-09-talk-8.md     2023-04-07-talk-3.md\n",
      "2013-03-01-tutorial-1.md 2022-06-21-talk-7.md     2023-11-07-talk-2.md\n",
      "2014-02-01-talk-2.md     2022-09-13-talk-6.md     2023-11-20-talk-1.md\n",
      "2014-03-01-talk-3.md     2022-11-15-talk-5.md\n",
      "2021-11-20-talk-9.md     2022-11-21-talk-4.md\n"
     ]
    }
   ],
   "source": [
    "!ls ../_talks"
   ]
  },
  {
   "cell_type": "code",
   "execution_count": 16,
   "metadata": {
    "collapsed": false,
    "deletable": true,
    "editable": true
   },
   "outputs": [
    {
     "name": "stdout",
     "output_type": "stream",
     "text": [
      "---\n",
      "title: \"A Numerical Vinaigrette: Effect of Surfactants on Oil-water Emulsification\"\n",
      "collection: talks\n",
      "type: \"Conference presentation\"\n",
      "permalink: /talks/2022-06-09-talk-8\n",
      "date: 2022-06-09\n",
      "location: \"Oslo, Norway\"\n",
      "---\n",
      "\n",
      "8th European Congress on Computational Methods in Applied Sciences and Engineering\n"
     ]
    }
   ],
   "source": [
    "# !cat ../_talks/2013-03-01-tutorial-1.md\n",
    "!cat ../_talks/2022-06-09-talk-8.md"
   ]
  },
  {
   "cell_type": "code",
   "execution_count": null,
   "metadata": {},
   "outputs": [],
   "source": []
  }
 ],
 "metadata": {
  "kernelspec": {
   "display_name": "Python 3",
   "language": "python",
   "name": "python3"
  },
  "language_info": {
   "codemirror_mode": {
    "name": "ipython",
    "version": 3
   },
   "file_extension": ".py",
   "mimetype": "text/x-python",
   "name": "python",
   "nbconvert_exporter": "python",
   "pygments_lexer": "ipython3",
   "version": "3.8.2"
  }
 },
 "nbformat": 4,
 "nbformat_minor": 0
}
