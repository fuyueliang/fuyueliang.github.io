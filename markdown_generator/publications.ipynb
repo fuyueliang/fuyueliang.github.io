{
 "cells": [
  {
   "cell_type": "markdown",
   "metadata": {
    "deletable": true,
    "editable": true
   },
   "source": [
    "# Publications markdown generator for academicpages\n",
    "\n",
    "Takes a TSV of publications with metadata and converts them for use with [academicpages.github.io](academicpages.github.io). This is an interactive Jupyter notebook ([see more info here](http://jupyter-notebook-beginner-guide.readthedocs.io/en/latest/what_is_jupyter.html)). The core python code is also in `publications.py`. Run either from the `markdown_generator` folder after replacing `publications.tsv` with one containing your data.\n",
    "\n",
    "TODO: Make this work with BibTex and other databases of citations, rather than Stuart's non-standard TSV format and citation style.\n"
   ]
  },
  {
   "cell_type": "markdown",
   "metadata": {},
   "source": [
    "## Data format\n",
    "\n",
    "The TSV needs to have the following columns: pub_date, title, venue, excerpt, citation, site_url, and paper_url, with a header at the top. \n",
    "\n",
    "- `excerpt` and `paper_url` can be blank, but the others must have values. \n",
    "- `pub_date` must be formatted as YYYY-MM-DD.\n",
    "- `url_slug` will be the descriptive part of the .md file and the permalink URL for the page about the paper. The .md file will be `YYYY-MM-DD-[url_slug].md` and the permalink will be `https://[yourdomain]/publications/YYYY-MM-DD-[url_slug]`\n",
    "\n",
    "This is how the raw file looks (it doesn't look pretty, use a spreadsheet or other program to edit and create)."
   ]
  },
  {
   "cell_type": "code",
   "execution_count": 1,
   "metadata": {
    "collapsed": false
   },
   "outputs": [
    {
     "name": "stdout",
     "output_type": "stream",
     "text": [
      "pub_date\ttitle\tvenue\texcerpt\tcitation\turl_slug\tpaper_url\n",
      "2023-09-01\tNumerical simulation of surfactant-laden emulsion formation in an un-baffled stirred vessel\tChemical Engineering Journal\t\t Liang, Fuyue, et al. \"Numerical simulation of surfactant-laden emulsion formation in an un-baffled stirred vessel.\" Chemical Engineering Journal 472(2023).\thttps://doi.org/10.1016/j.cej.2023.144807\t\n",
      "2023-11-01\tOn the dispersion dynamics of liquid–liquid surfactant-laden flows in a SMX static mixer\tChemical Engineering Journal\t\tValdes, J. P., Kahouadji, L., Liang, F., Shin, S., Chergui, J., Juric, D., & Matar, O. K. (2023). \"On the dispersion dynamics of liquid–liquid surfactant-laden flows in a SMX static mixer.\" Chemical Engineering Journal, 475, 146058.\thttps://doi.org/10.1016/j.cej.2023.146058\t\n",
      "2023-04-15\tDirect numerical simulations of liquid–liquid dispersions in a SMX mixer under different inlet conditions\tChemical Engineering Journal\t\tValdes, J. P., Kahouadji, L., **Liang, F.**, Shin, S., Chergui, J., Juric, D., & Matar, O. K. (2023). \"Direct numerical simulations of liquid–liquid dispersions in a SMX mixer under different inlet conditions.\" Chemical Engineering Journal, 462, 142248.\thttps://doi.org/10.1016/j.cej.2023.142248\t\n",
      "2022-09-29\tNumerical study of oil–water emulsion formation in stirred vessels: effect of impeller speed\tFlow\t\tLiang, Fuyue, et al. \"Numerical study of oil–water emulsion formation in stirred vessels: effect of impeller speed.\" Flow 2 (2022).\thttps://doi.org/10.1017/flo.2022.27\t\n",
      "2022-09-22\tThe transition to aeration in turbulent two-phase mixing in stirred vessels\tFlow\t\tKahouadji, Lyes, Fuyue Liang, Juan P. Valdes, Seungwon Shin, Jalel Chergui, Damir Juric, Richard V. Craster, and Omar K. Matar. \"The transition to aeration in turbulent two-phase mixing in stirred vessels.\" Flow 2 (2022): E30.\thttps://doi.org/10.1017/flo.2022.24\t\n",
      "2021-04-22\tEnhancement of Damaged-image prediction through Cahn-Hilliard Image Inpainting\tRoyal Society Open Science\t\tCarrillo, José A., Serafim Kalliadasis, Fuyue Liang, and Sergio P. Perez. \"Enhancement of damaged-image prediction through Cahn–Hilliard image inpainting.\" Royal Society open science 8, no. 5 (2021): 201294.\thttps://doi.org/10.1098/rsos.201294 \n"
     ]
    }
   ],
   "source": [
    "!cat publications.tsv"
   ]
  },
  {
   "cell_type": "markdown",
   "metadata": {},
   "source": [
    "## Import pandas\n",
    "\n",
    "We are using the very handy pandas library for dataframes."
   ]
  },
  {
   "cell_type": "code",
   "execution_count": 2,
   "metadata": {
    "collapsed": true,
    "deletable": true,
    "editable": true
   },
   "outputs": [],
   "source": [
    "import pandas as pd"
   ]
  },
  {
   "cell_type": "markdown",
   "metadata": {},
   "source": [
    "## Import TSV\n",
    "\n",
    "Pandas makes this easy with the read_csv function. We are using a TSV, so we specify the separator as a tab, or `\\t`.\n",
    "\n",
    "I found it important to put this data in a tab-separated values format, because there are a lot of commas in this kind of data and comma-separated values can get messed up. However, you can modify the import statement, as pandas also has read_excel(), read_json(), and others."
   ]
  },
  {
   "cell_type": "code",
   "execution_count": 3,
   "metadata": {
    "collapsed": false,
    "deletable": true,
    "editable": true
   },
   "outputs": [
    {
     "data": {
      "text/html": [
       "<div>\n",
       "<style scoped>\n",
       "    .dataframe tbody tr th:only-of-type {\n",
       "        vertical-align: middle;\n",
       "    }\n",
       "\n",
       "    .dataframe tbody tr th {\n",
       "        vertical-align: top;\n",
       "    }\n",
       "\n",
       "    .dataframe thead th {\n",
       "        text-align: right;\n",
       "    }\n",
       "</style>\n",
       "<table border=\"1\" class=\"dataframe\">\n",
       "  <thead>\n",
       "    <tr style=\"text-align: right;\">\n",
       "      <th></th>\n",
       "      <th>pub_date</th>\n",
       "      <th>title</th>\n",
       "      <th>venue</th>\n",
       "      <th>excerpt</th>\n",
       "      <th>citation</th>\n",
       "      <th>url_slug</th>\n",
       "      <th>paper_url</th>\n",
       "    </tr>\n",
       "  </thead>\n",
       "  <tbody>\n",
       "    <tr>\n",
       "      <th>0</th>\n",
       "      <td>2023-09-01</td>\n",
       "      <td>Numerical simulation of surfactant-laden emuls...</td>\n",
       "      <td>Chemical Engineering Journal</td>\n",
       "      <td>NaN</td>\n",
       "      <td>Liang, Fuyue, et al. \"Numerical simulation of...</td>\n",
       "      <td>https://doi.org/10.1016/j.cej.2023.144807</td>\n",
       "      <td>NaN</td>\n",
       "    </tr>\n",
       "    <tr>\n",
       "      <th>1</th>\n",
       "      <td>2023-11-01</td>\n",
       "      <td>On the dispersion dynamics of liquid–liquid su...</td>\n",
       "      <td>Chemical Engineering Journal</td>\n",
       "      <td>NaN</td>\n",
       "      <td>Valdes, J. P., Kahouadji, L., Liang, F., Shin,...</td>\n",
       "      <td>https://doi.org/10.1016/j.cej.2023.146058</td>\n",
       "      <td>NaN</td>\n",
       "    </tr>\n",
       "    <tr>\n",
       "      <th>2</th>\n",
       "      <td>2023-04-15</td>\n",
       "      <td>Direct numerical simulations of liquid–liquid ...</td>\n",
       "      <td>Chemical Engineering Journal</td>\n",
       "      <td>NaN</td>\n",
       "      <td>Valdes, J. P., Kahouadji, L., **Liang, F.**, S...</td>\n",
       "      <td>https://doi.org/10.1016/j.cej.2023.142248</td>\n",
       "      <td>NaN</td>\n",
       "    </tr>\n",
       "    <tr>\n",
       "      <th>3</th>\n",
       "      <td>2022-09-29</td>\n",
       "      <td>Numerical study of oil–water emulsion formatio...</td>\n",
       "      <td>Flow</td>\n",
       "      <td>NaN</td>\n",
       "      <td>Liang, Fuyue, et al. \"Numerical study of oil–w...</td>\n",
       "      <td>https://doi.org/10.1017/flo.2022.27</td>\n",
       "      <td>NaN</td>\n",
       "    </tr>\n",
       "    <tr>\n",
       "      <th>4</th>\n",
       "      <td>2022-09-22</td>\n",
       "      <td>The transition to aeration in turbulent two-ph...</td>\n",
       "      <td>Flow</td>\n",
       "      <td>NaN</td>\n",
       "      <td>Kahouadji, Lyes, Fuyue Liang, Juan P. Valdes, ...</td>\n",
       "      <td>https://doi.org/10.1017/flo.2022.24</td>\n",
       "      <td>NaN</td>\n",
       "    </tr>\n",
       "    <tr>\n",
       "      <th>5</th>\n",
       "      <td>2021-04-22</td>\n",
       "      <td>Enhancement of Damaged-image prediction throug...</td>\n",
       "      <td>Royal Society Open Science</td>\n",
       "      <td>NaN</td>\n",
       "      <td>Carrillo, José A., Serafim Kalliadasis, Fuyue ...</td>\n",
       "      <td>https://doi.org/10.1098/rsos.201294</td>\n",
       "      <td>NaN</td>\n",
       "    </tr>\n",
       "  </tbody>\n",
       "</table>\n",
       "</div>"
      ],
      "text/plain": [
       "     pub_date                                              title  \\\n",
       "0  2023-09-01  Numerical simulation of surfactant-laden emuls...   \n",
       "1  2023-11-01  On the dispersion dynamics of liquid–liquid su...   \n",
       "2  2023-04-15  Direct numerical simulations of liquid–liquid ...   \n",
       "3  2022-09-29  Numerical study of oil–water emulsion formatio...   \n",
       "4  2022-09-22  The transition to aeration in turbulent two-ph...   \n",
       "5  2021-04-22  Enhancement of Damaged-image prediction throug...   \n",
       "\n",
       "                          venue  excerpt  \\\n",
       "0  Chemical Engineering Journal      NaN   \n",
       "1  Chemical Engineering Journal      NaN   \n",
       "2  Chemical Engineering Journal      NaN   \n",
       "3                          Flow      NaN   \n",
       "4                          Flow      NaN   \n",
       "5    Royal Society Open Science      NaN   \n",
       "\n",
       "                                            citation  \\\n",
       "0   Liang, Fuyue, et al. \"Numerical simulation of...   \n",
       "1  Valdes, J. P., Kahouadji, L., Liang, F., Shin,...   \n",
       "2  Valdes, J. P., Kahouadji, L., **Liang, F.**, S...   \n",
       "3  Liang, Fuyue, et al. \"Numerical study of oil–w...   \n",
       "4  Kahouadji, Lyes, Fuyue Liang, Juan P. Valdes, ...   \n",
       "5  Carrillo, José A., Serafim Kalliadasis, Fuyue ...   \n",
       "\n",
       "                                    url_slug  paper_url  \n",
       "0  https://doi.org/10.1016/j.cej.2023.144807        NaN  \n",
       "1  https://doi.org/10.1016/j.cej.2023.146058        NaN  \n",
       "2  https://doi.org/10.1016/j.cej.2023.142248        NaN  \n",
       "3        https://doi.org/10.1017/flo.2022.27        NaN  \n",
       "4        https://doi.org/10.1017/flo.2022.24        NaN  \n",
       "5       https://doi.org/10.1098/rsos.201294         NaN  "
      ]
     },
     "execution_count": 3,
     "metadata": {},
     "output_type": "execute_result"
    }
   ],
   "source": [
    "publications = pd.read_csv(\"publications.tsv\", sep=\"\\t\", header=0)\n",
    "publications\n"
   ]
  },
  {
   "cell_type": "markdown",
   "metadata": {},
   "source": [
    "## Escape special characters\n",
    "\n",
    "YAML is very picky about how it takes a valid string, so we are replacing single and double quotes (and ampersands) with their HTML encoded equivilents. This makes them look not so readable in raw format, but they are parsed and rendered nicely."
   ]
  },
  {
   "cell_type": "code",
   "execution_count": 4,
   "metadata": {
    "collapsed": true,
    "deletable": true,
    "editable": true
   },
   "outputs": [],
   "source": [
    "html_escape_table = {\n",
    "    \"&\": \"&amp;\",\n",
    "    '\"': \"&quot;\",\n",
    "    \"'\": \"&apos;\"\n",
    "    }\n",
    "\n",
    "def html_escape(text):\n",
    "    \"\"\"Produce entities within text.\"\"\"\n",
    "    return \"\".join(html_escape_table.get(c,c) for c in text)"
   ]
  },
  {
   "cell_type": "markdown",
   "metadata": {},
   "source": [
    "## Creating the markdown files\n",
    "\n",
    "This is where the heavy lifting is done. This loops through all the rows in the TSV dataframe, then starts to concatentate a big string (```md```) that contains the markdown for each type. It does the YAML metadata first, then does the description for the individual page."
   ]
  },
  {
   "cell_type": "code",
   "execution_count": 5,
   "metadata": {
    "collapsed": false,
    "deletable": true,
    "editable": true
   },
   "outputs": [],
   "source": [
    "import os\n",
    "for row, item in publications.iterrows():\n",
    "    \n",
    "    md_filename = str(item.pub_date) + \"-\" + item.url_slug + \".md\"\n",
    "    html_filename = str(item.pub_date) + \"-\" + item.url_slug\n",
    "    year = item.pub_date[:4]\n",
    "    \n",
    "    ## YAML variables\n",
    "    \n",
    "    md = \"---\\ntitle: \\\"\"   + item.title + '\"\\n'\n",
    "    \n",
    "    md += \"\"\"collection: publications\"\"\"\n",
    "    \n",
    "    md += \"\"\"\\npermalink: /publication/\"\"\" + html_filename\n",
    "    \n",
    "    if len(str(item.excerpt)) > 5:\n",
    "        md += \"\\nexcerpt: '\" + html_escape(item.excerpt) + \"'\"\n",
    "    \n",
    "    md += \"\\ndate: \" + str(item.pub_date) \n",
    "    \n",
    "    md += \"\\nvenue: '\" + html_escape(item.venue) + \"'\"\n",
    "    \n",
    "    if len(str(item.paper_url)) > 5:\n",
    "        md += \"\\npaperurl: '\" + item.paper_url + \"'\"\n",
    "    \n",
    "    md += \"\\ncitation: '\" + html_escape(item.citation) + \"'\"\n",
    "    \n",
    "    md += \"\\n---\"\n",
    "    \n",
    "    ## Markdown description for individual page\n",
    "        \n",
    "    if len(str(item.excerpt)) > 5:\n",
    "        md += \"\\n\" + html_escape(item.excerpt) + \"\\n\"\n",
    "    \n",
    "    if len(str(item.paper_url)) > 5:\n",
    "        md += \"\\n[Download paper here](\" + item.paper_url + \")\\n\" \n",
    "        \n",
    "    md += \"\\nRecommended citation: \" + item.citation\n",
    "    \n",
    "    md_filename = os.path.basename(md_filename)\n",
    "       \n",
    "    with open(\"../_publications/\" + md_filename, 'w') as f:\n",
    "        f.write(md)"
   ]
  },
  {
   "cell_type": "markdown",
   "metadata": {},
   "source": [
    "These files are in the publications directory, one directory below where we're working from."
   ]
  },
  {
   "cell_type": "code",
   "execution_count": 6,
   "metadata": {
    "collapsed": false,
    "deletable": true,
    "editable": true
   },
   "outputs": [
    {
     "name": "stdout",
     "output_type": "stream",
     "text": [
      "2015-10-01-paper-title-number-3.md j.cej.2023.144807.md\n",
      "flo.2022.24.md                     j.cej.2023.146058.md\n",
      "flo.2022.27.md                     rsos.201294 .md\n",
      "j.cej.2023.142248.md\n"
     ]
    }
   ],
   "source": [
    "!ls ../_publications/"
   ]
  },
  {
   "cell_type": "code",
   "execution_count": 4,
   "metadata": {
    "collapsed": false,
    "deletable": true,
    "editable": true
   },
   "outputs": [
    {
     "name": "stdout",
     "output_type": "stream",
     "text": [
      "---\n",
      "title: \"Paper Title Number 3\"\n",
      "collection: publications\n",
      "permalink: /publication/2015-10-01-paper-title-number-3\n",
      "excerpt: 'This paper is about the number 3. The number 4 is left for future work.'\n",
      "date: 2015-10-01\n",
      "venue: 'Journal 1'\n",
      "paperurl: 'http://academicpages.github.io/files/paper3.pdf'\n",
      "citation: 'Your Name, You. (2015). &quot;Paper Title Number 3.&quot; <i>Journal 1</i>. 1(3).'\n",
      "---\n",
      "This paper is about the number 3. The number 4 is left for future work.\n",
      "\n",
      "[Download paper here](http://academicpages.github.io/files/paper3.pdf)\n",
      "\n",
      "Recommended citation: Your Name, You. (2015). \"Paper Title Number 3.\" <i>Journal 1</i>. 1(3).---\n",
      "title: \"The transition to aeration in turbulent two-phase mixing in stirred vessels\"\n",
      "collection: publications\n",
      "permalink: /publication/2022-09-22-https://doi.org/10.1017/flo.2022.24\n",
      "date: 2022-09-22\n",
      "venue: 'Flow'\n",
      "citation: 'Kahouadji, Lyes, Fuyue Liang, Juan P. Valdes, Seungwon Shin, Jalel Chergui, Damir Juric, Richard V. Craster, and Omar K. Matar. &quot;The transition to aeration in turbulent two-phase mixing in stirred vessels.&quot; Flow 2 (2022): E30.'\n",
      "---\n",
      "Recommended citation: Kahouadji, Lyes, Fuyue Liang, Juan P. Valdes, Seungwon Shin, Jalel Chergui, Damir Juric, Richard V. Craster, and Omar K. Matar. \"The transition to aeration in turbulent two-phase mixing in stirred vessels.\" Flow 2 (2022): E30."
     ]
    }
   ],
   "source": [
    "!cat ../_publications/2015-10-01-paper-title-number-3.md\n",
    "!cat ../_publications/flo.2022.24.md\n",
    "\n"
   ]
  },
  {
   "cell_type": "code",
   "execution_count": null,
   "metadata": {
    "collapsed": true,
    "deletable": true,
    "editable": true
   },
   "outputs": [],
   "source": []
  }
 ],
 "metadata": {
  "kernelspec": {
   "display_name": "Python 3",
   "language": "python",
   "name": "python3"
  },
  "language_info": {
   "codemirror_mode": {
    "name": "ipython",
    "version": 3
   },
   "file_extension": ".py",
   "mimetype": "text/x-python",
   "name": "python",
   "nbconvert_exporter": "python",
   "pygments_lexer": "ipython3",
   "version": "3.8.2"
  }
 },
 "nbformat": 4,
 "nbformat_minor": 0
}
