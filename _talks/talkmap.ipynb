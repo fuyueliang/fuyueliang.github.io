{
 "cells": [
  {
   "cell_type": "markdown",
   "metadata": {},
   "source": [
    "# Leaflet cluster map of talk locations\n",
    "\n",
    "Run this from the _talks/ directory, which contains .md files of all your talks. This scrapes the location YAML field from each .md file, geolocates it with geopy/Nominatim, and uses the getorg library to output data, HTML, and Javascript for a standalone cluster map."
   ]
  },
  {
   "cell_type": "code",
   "execution_count": 2,
   "metadata": {
    "collapsed": false
   },
   "outputs": [
    {
     "name": "stdout",
     "output_type": "stream",
     "text": [
      "Defaulting to user installation because normal site-packages is not writeable\n",
      "Requirement already satisfied: getorg in /Users/choupixiong/Library/Python/3.8/lib/python/site-packages (0.3.1)\n",
      "Requirement already satisfied: geopy in /Users/choupixiong/Library/Python/3.8/lib/python/site-packages (from getorg) (2.4.0)\n",
      "Requirement already satisfied: retrying in /Users/choupixiong/Library/Python/3.8/lib/python/site-packages (from getorg) (1.3.4)\n",
      "Requirement already satisfied: pygithub in /Users/choupixiong/Library/Python/3.8/lib/python/site-packages (from getorg) (2.1.1)\n",
      "Requirement already satisfied: geographiclib<3,>=1.52 in /Users/choupixiong/Library/Python/3.8/lib/python/site-packages (from geopy->getorg) (2.0)\n",
      "Requirement already satisfied: pynacl>=1.4.0 in /Users/choupixiong/Library/Python/3.8/lib/python/site-packages (from pygithub->getorg) (1.5.0)\n",
      "Requirement already satisfied: pyjwt[crypto]>=2.4.0 in /Users/choupixiong/Library/Python/3.8/lib/python/site-packages (from pygithub->getorg) (2.8.0)\n",
      "Requirement already satisfied: typing-extensions>=4.0.0 in /Users/choupixiong/Library/Python/3.8/lib/python/site-packages (from pygithub->getorg) (4.8.0)\n",
      "Requirement already satisfied: urllib3>=1.26.0 in /Users/choupixiong/Library/Python/3.8/lib/python/site-packages (from pygithub->getorg) (2.0.6)\n",
      "Requirement already satisfied: Deprecated in /Users/choupixiong/Library/Python/3.8/lib/python/site-packages (from pygithub->getorg) (1.2.14)\n",
      "Requirement already satisfied: python-dateutil in /Users/choupixiong/Library/Python/3.8/lib/python/site-packages (from pygithub->getorg) (2.8.2)\n",
      "Requirement already satisfied: requests>=2.14.0 in /Users/choupixiong/Library/Python/3.8/lib/python/site-packages (from pygithub->getorg) (2.31.0)\n",
      "Requirement already satisfied: six>=1.7.0 in /Library/Developer/CommandLineTools/Library/Frameworks/Python3.framework/Versions/3.8/lib/python3.8/site-packages (from retrying->getorg) (1.15.0)\n",
      "Requirement already satisfied: cryptography>=3.4.0 in /Users/choupixiong/Library/Python/3.8/lib/python/site-packages (from pyjwt[crypto]>=2.4.0->pygithub->getorg) (41.0.4)\n",
      "Requirement already satisfied: cffi>=1.4.1 in /Users/choupixiong/Library/Python/3.8/lib/python/site-packages (from pynacl>=1.4.0->pygithub->getorg) (1.14.6)\n",
      "Requirement already satisfied: idna<4,>=2.5 in /Users/choupixiong/Library/Python/3.8/lib/python/site-packages (from requests>=2.14.0->pygithub->getorg) (3.4)\n",
      "Requirement already satisfied: charset-normalizer<4,>=2 in /Users/choupixiong/Library/Python/3.8/lib/python/site-packages (from requests>=2.14.0->pygithub->getorg) (3.3.0)\n",
      "Requirement already satisfied: certifi>=2017.4.17 in /Users/choupixiong/Library/Python/3.8/lib/python/site-packages (from requests>=2.14.0->pygithub->getorg) (2023.7.22)\n",
      "Requirement already satisfied: wrapt<2,>=1.10 in /Users/choupixiong/Library/Python/3.8/lib/python/site-packages (from Deprecated->pygithub->getorg) (1.15.0)\n",
      "Requirement already satisfied: pycparser in /Users/choupixiong/Library/Python/3.8/lib/python/site-packages (from cffi>=1.4.1->pynacl>=1.4.0->pygithub->getorg) (2.20)\n",
      "\n",
      "\u001b[1m[\u001b[0m\u001b[34;49mnotice\u001b[0m\u001b[1;39;49m]\u001b[0m\u001b[39;49m A new release of pip is available: \u001b[0m\u001b[31;49m23.0.1\u001b[0m\u001b[39;49m -> \u001b[0m\u001b[32;49m23.2.1\u001b[0m\n",
      "\u001b[1m[\u001b[0m\u001b[34;49mnotice\u001b[0m\u001b[1;39;49m]\u001b[0m\u001b[39;49m To update, run: \u001b[0m\u001b[32;49m/Library/Developer/CommandLineTools/usr/bin/python3 -m pip install --upgrade pip\u001b[0m\n"
     ]
    }
   ],
   "source": [
    "!pip install getorg --upgrade\n",
    "import glob\n",
    "import getorg\n",
    "from geopy import Nominatim"
   ]
  },
  {
   "cell_type": "code",
   "execution_count": 3,
   "metadata": {
    "collapsed": false
   },
   "outputs": [],
   "source": [
    "g = glob.glob(\"*.md\")"
   ]
  },
  {
   "cell_type": "code",
   "execution_count": 6,
   "metadata": {
    "collapsed": true
   },
   "outputs": [],
   "source": [
    "geocoder = Nominatim(user_agent=\"MacOS Big Sur/11.1\")\n",
    "location_dict = {}\n",
    "location = \"\"\n",
    "permalink = \"\"\n",
    "title = \"\""
   ]
  },
  {
   "cell_type": "code",
   "execution_count": 7,
   "metadata": {
    "collapsed": false
   },
   "outputs": [
    {
     "name": "stdout",
     "output_type": "stream",
     "text": [
      "Online \n",
      " Online, Croix d'Argent, Montpellier, Hérault, Occitanie, France métropolitaine, France\n",
      "Pheonix, USA \n",
      " Pheonix Canal, Cape Coral, Lee County, Florida, 33904, United States\n",
      "Washington D.C., USA \n",
      " Washington, District of Columbia, United States\n",
      "Indianapolis, USA \n",
      " Indianapolis, Marion County, Indiana, United States\n",
      "Online \n",
      " Online, Croix d'Argent, Montpellier, Hérault, Occitanie, France métropolitaine, France\n",
      "Oslo, Norway \n",
      " Oslo, Norge\n",
      "Athens, Greece \n",
      " Αθήνα, Δήμος Αθηναίων, Περιφερειακή Ενότητα Κεντρικού Τομέα Αθηνών, Περιφέρεια Αττικής, Αποκεντρωμένη Διοίκηση Αττικής, 105 57, Ελλάς\n",
      "Orlando, USA \n",
      " Orlando, Orange County, Florida, United States\n",
      "Kobe, Japan \n",
      " 神戸市, 兵庫県, 日本\n"
     ]
    }
   ],
   "source": [
    "\n",
    "for file in g:\n",
    "    with open(file, 'r') as f:\n",
    "        lines = f.read()\n",
    "        if lines.find('location: \"') > 1:\n",
    "            loc_start = lines.find('location: \"') + 11\n",
    "            lines_trim = lines[loc_start:]\n",
    "            loc_end = lines_trim.find('\"')\n",
    "            location = lines_trim[:loc_end]\n",
    "                            \n",
    "           \n",
    "        location_dict[location] = geocoder.geocode(location)\n",
    "        print(location, \"\\n\", location_dict[location])\n"
   ]
  },
  {
   "cell_type": "code",
   "execution_count": 8,
   "metadata": {
    "collapsed": false
   },
   "outputs": [
    {
     "data": {
      "text/plain": [
       "'Written map to ../talkmap/'"
      ]
     },
     "execution_count": 8,
     "metadata": {},
     "output_type": "execute_result"
    }
   ],
   "source": [
    "m = getorg.orgmap.create_map_obj()\n",
    "getorg.orgmap.output_html_cluster_map(location_dict, folder_name=\"../talkmap\", hashed_usernames=False)"
   ]
  },
  {
   "cell_type": "code",
   "execution_count": null,
   "metadata": {
    "collapsed": true
   },
   "outputs": [],
   "source": []
  }
 ],
 "metadata": {
  "anaconda-cloud": {},
  "kernelspec": {
   "display_name": "Python 3",
   "language": "python",
   "name": "python3"
  },
  "language_info": {
   "codemirror_mode": {
    "name": "ipython",
    "version": 3
   },
   "file_extension": ".py",
   "mimetype": "text/x-python",
   "name": "python",
   "nbconvert_exporter": "python",
   "pygments_lexer": "ipython3",
   "version": "3.8.2"
  }
 },
 "nbformat": 4,
 "nbformat_minor": 0
}
